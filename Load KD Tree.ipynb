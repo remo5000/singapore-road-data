{
 "cells": [
  {
   "cell_type": "markdown",
   "metadata": {},
   "source": [
    "This file faciliates loading of the kd tree.\n",
    "\n",
    "Required files:\n",
    "- `coords_to_roadpoints.txt`\n",
    "- `kdtree.txt`\n",
    "\n",
    "If these are not present, do use the main notebook to generate them."
   ]
  },
  {
   "cell_type": "code",
   "execution_count": 4,
   "metadata": {},
   "outputs": [],
   "source": [
    "from pickle import loads\n",
    "from ast import literal_eval\n",
    "from scipy.spatial import cKDTree as KDtree"
   ]
  },
  {
   "cell_type": "code",
   "execution_count": null,
   "metadata": {},
   "outputs": [],
   "source": [
    "# Load a kd tree from kdtree.txt in the same directory, as kdtree\n",
    "dumped_file = open(\"kdtree.txt\", \"r\")\n",
    "\n",
    "dumped = literal_eval(dumped_file.read())\n",
    "kdtree = loads(dumped)\n",
    "\n",
    "# Load a dumped dictionary from coords_to_roadpoints.txt in \n",
    "# the same directory\n",
    "dumped_file = open(\"coords_to_roadpoints.txt\", \"r\")\n",
    "dumped = literal_eval(dumped_file.read())\n",
    "dictionary = loads(dumped)\n"
   ]
  },
  {
   "cell_type": "markdown",
   "metadata": {},
   "source": [
    "Feel free to modify the below code and search for any points! Below is sample code that searches for a point at Hoy Fatt Road."
   ]
  },
  {
   "cell_type": "code",
   "execution_count": null,
   "metadata": {},
   "outputs": [],
   "source": [
    "# The coordinates I specify\n",
    "my_coordinates = (1.3029446, 103.8321285)\n",
    "\n",
    "# Getting the index of the closest coordinate in the datatset\n",
    "(_, index_of_coordinate) = kdtree.query(my_coordinates)\n",
    "\n",
    "# The data is stored as an array of \n",
    "# coordinates (as a KD tree can have K dimensions)\n",
    "closest_coords_array = kdtree.data[index_of_coordinate]\n",
    "# Conversion from an array to a tuple\n",
    "closest_coords = (closest_coords_array[0], closest_coords_array[1])"
   ]
  }
 ],
 "metadata": {
  "kernelspec": {
   "display_name": "Python 3",
   "language": "python",
   "name": "python3"
  },
  "language_info": {
   "codemirror_mode": {
    "name": "ipython",
    "version": 3
   },
   "file_extension": ".py",
   "mimetype": "text/x-python",
   "name": "python",
   "nbconvert_exporter": "python",
   "pygments_lexer": "ipython3",
   "version": "3.6.5"
  }
 },
 "nbformat": 4,
 "nbformat_minor": 2
}
