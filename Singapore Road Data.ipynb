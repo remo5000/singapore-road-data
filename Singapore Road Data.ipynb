{
 "cells": [
  {
   "cell_type": "markdown",
   "metadata": {},
   "source": [
    "# Singapore Road Data\n",
    "This is a notebook that will guide you through \n",
    "1. Obtaining data from openstreetmaps\n",
    "2. Generating useful output from the data\n",
    "  - A visualisation of all the points\n",
    "  - A text file with the coordinates, road names and number of lanes\n",
    "  - A dumped dictionary and kd-tree, which can be used to quickly get information regarding a single point\n"
   ]
  },
  {
   "cell_type": "code",
   "execution_count": 1,
   "metadata": {},
   "outputs": [
    {
     "name": "stdout",
     "output_type": "stream",
     "text": [
      "Collecting overpy\n",
      "  Using cached https://files.pythonhosted.org/packages/9d/20/31f2e2af0dbc05a358259b9cdf67056d34b002d8041944628d05adfab9ba/overpy-0.4.tar.gz\n",
      "Building wheels for collected packages: overpy\n",
      "  Running setup.py bdist_wheel for overpy ... \u001b[?25ldone\n",
      "\u001b[?25h  Stored in directory: /Users/vigneshshankar/Library/Caches/pip/wheels/10/53/c2/e6b6f97e7bb419193bd3aafbe38628666f0f93a1cec9dc521d\n",
      "Successfully built overpy\n",
      "Installing collected packages: overpy\n",
      "Successfully installed overpy-0.4\n"
     ]
    },
    {
     "ename": "ModuleNotFoundError",
     "evalue": "No module named 'road_point'",
     "output_type": "error",
     "traceback": [
      "\u001b[0;31m---------------------------------------------------------------------------\u001b[0m",
      "\u001b[0;31mModuleNotFoundError\u001b[0m                       Traceback (most recent call last)",
      "\u001b[0;32m<ipython-input-1-24c846c00c61>\u001b[0m in \u001b[0;36m<module>\u001b[0;34m()\u001b[0m\n\u001b[1;32m      6\u001b[0m \u001b[0;34m\u001b[0m\u001b[0m\n\u001b[1;32m      7\u001b[0m \u001b[0;31m# Internal imports (classes, functions)\u001b[0m\u001b[0;34m\u001b[0m\u001b[0;34m\u001b[0m\u001b[0m\n\u001b[0;32m----> 8\u001b[0;31m \u001b[0;32mfrom\u001b[0m \u001b[0mroad_point\u001b[0m \u001b[0;32mimport\u001b[0m \u001b[0mRoadPoint\u001b[0m\u001b[0;34m\u001b[0m\u001b[0m\n\u001b[0m\u001b[1;32m      9\u001b[0m \u001b[0;32mfrom\u001b[0m \u001b[0moutput_text\u001b[0m \u001b[0;32mimport\u001b[0m \u001b[0mexport_road_points\u001b[0m\u001b[0;34m\u001b[0m\u001b[0m\n\u001b[1;32m     10\u001b[0m \u001b[0;32mfrom\u001b[0m \u001b[0moutput_scatter\u001b[0m \u001b[0;32mimport\u001b[0m \u001b[0mmake_gmap\u001b[0m\u001b[0;34m\u001b[0m\u001b[0m\n",
      "\u001b[0;31mModuleNotFoundError\u001b[0m: No module named 'road_point'"
     ]
    }
   ],
   "source": [
    "# External imports\n",
    "import overpy as op\n",
    "import sys\n",
    "import concurrent.futures\n",
    "\n",
    "# Internal imports (classes, functions)\n",
    "from road_point import RoadPoint\n",
    "from output_text import export_road_points\n",
    "from output_scatter import make_gmap\n",
    "from output_kd_tree import make_kdtree\n",
    "from speed_limit_scraper import get_speed_limit"
   ]
  },
  {
   "cell_type": "code",
   "execution_count": null,
   "metadata": {},
   "outputs": [],
   "source": []
  },
  {
   "cell_type": "code",
   "execution_count": null,
   "metadata": {},
   "outputs": [],
   "source": []
  }
 ],
 "metadata": {
  "kernelspec": {
   "display_name": "Python 3",
   "language": "python",
   "name": "python3"
  },
  "language_info": {
   "codemirror_mode": {
    "name": "ipython",
    "version": 3
   },
   "file_extension": ".py",
   "mimetype": "text/x-python",
   "name": "python",
   "nbconvert_exporter": "python",
   "pygments_lexer": "ipython3",
   "version": "3.6.5"
  }
 },
 "nbformat": 4,
 "nbformat_minor": 2
}
